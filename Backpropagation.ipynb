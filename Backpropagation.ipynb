{
 "cells": [
  {
   "cell_type": "markdown",
   "metadata": {},
   "source": [
    "# Backpropagation example with numpy on MNIST\n",
    "E. Krupczak - 19 Aug 2018"
   ]
  },
  {
   "cell_type": "code",
   "execution_count": 1,
   "metadata": {},
   "outputs": [],
   "source": [
    "import numpy as np"
   ]
  },
  {
   "cell_type": "markdown",
   "metadata": {},
   "source": [
    "Last node goes to loss, so d(loss)/d(final node) = 1\n",
    "$$\\frac{d(loss)}{d(node)} = \\text{node weight}$$\n",
    "i.e. for an affine layer:\n",
    "$$Loss = x_1+x_2+x_3+x_4$$\n",
    "$$\\frac{dLoss}{dx_1} = 1$$\n",
    "and for a non-linear layer:\n",
    "$$Loss = \\tanh(x_1)$$\n",
    "$$\\frac{dLoss}{dx_1}= \\frac{d\\tanh(x_1)}{dx_1}$$\n",
    "\n",
    "Use chain rule to combine layers, eg. $\\alpha$, $\\beta$:\n",
    "$$\\frac{dL}{d\\alpha} = \\frac{d\\beta}{d\\alpha}\\cdot\\frac{dL}{d\\beta}$$"
   ]
  },
  {
   "cell_type": "markdown",
   "metadata": {},
   "source": [
    "Class for every kind of layer:\n",
    "- Affine layer\n",
    "    - Matrix multiplication layer\n",
    "    - Bias layer\n",
    "- Nonlinear layer (eg. tanh)\n",
    "- Loss/squared-error layer\n",
    "- Softmax cross entropy layer"
   ]
  },
  {
   "cell_type": "code",
   "execution_count": null,
   "metadata": {},
   "outputs": [],
   "source": []
  }
 ],
 "metadata": {
  "kernelspec": {
   "display_name": "Python 3",
   "language": "python",
   "name": "python3"
  },
  "language_info": {
   "codemirror_mode": {
    "name": "ipython",
    "version": 3
   },
   "file_extension": ".py",
   "mimetype": "text/x-python",
   "name": "python",
   "nbconvert_exporter": "python",
   "pygments_lexer": "ipython3",
   "version": "3.6.4"
  }
 },
 "nbformat": 4,
 "nbformat_minor": 2
}
