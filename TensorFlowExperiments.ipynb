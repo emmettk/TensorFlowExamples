{
 "cells": [
  {
   "cell_type": "markdown",
   "metadata": {},
   "source": [
    "# Learning Machine Learning - Some TensorFlow experiments\n",
    "E. Krupczak  - 18 Aug 2018\n"
   ]
  },
  {
   "cell_type": "raw",
   "metadata": {},
   "source": [
    "#Testing installation\n",
    "import tensorflow as tf\n",
    "#Make a node\n",
    "hello = tf.constant('Hello, TensorFlow!')\n",
    "sess = tf.Session()\n",
    "#Give next value of 'hello' node\n",
    "print(sess.run(hello))"
   ]
  },
  {
   "cell_type": "code",
   "execution_count": 1,
   "metadata": {},
   "outputs": [],
   "source": [
    "%matplotlib inline\n",
    "import tensorflow as tf\n",
    "import numpy as np\n",
    "import matplotlib.pyplot as plt\n",
    "sess = tf.InteractiveSession()"
   ]
  },
  {
   "cell_type": "markdown",
   "metadata": {},
   "source": [
    "Types of nodes:\n",
    "- Placeholders: feed in data\n",
    "- Variables: hold parameters of model\n",
    "- Computational nodes: represent eg. matrix multiplication. These computational nodes can sometimes have side effects,  make additional nodes, etc"
   ]
  },
  {
   "cell_type": "code",
   "execution_count": null,
   "metadata": {},
   "outputs": [],
   "source": [
    "#List of vectors of length 4\n",
    "input_ph = tf.placeholder(tf.float32, shape=[None,4]) #If dimension in shape is none, that dimension can be arbitrarily long"
   ]
  },
  {
   "cell_type": "code",
   "execution_count": null,
   "metadata": {},
   "outputs": [],
   "source": [
    "output = input_ph + 2*input_ph #Making a node in the graph"
   ]
  },
  {
   "cell_type": "code",
   "execution_count": null,
   "metadata": {},
   "outputs": [],
   "source": [
    "#values for the input\n",
    "input_array = np.random.randn(4,4)\n",
    "input_array"
   ]
  },
  {
   "cell_type": "code",
   "execution_count": null,
   "metadata": {},
   "outputs": [],
   "source": [
    "#Run the output node\n",
    "#feed dict: specify for every placeholder what its value is\n",
    "sess.run(output, feed_dict={\n",
    "    input_ph:input_array,\n",
    "})"
   ]
  },
  {
   "cell_type": "markdown",
   "metadata": {},
   "source": [
    "Variables: takes in an initial set of value and returns a special kind of node that declares to the graph that this variable might be changed by an optimization. E.g. parameters of a model"
   ]
  },
  {
   "cell_type": "markdown",
   "metadata": {},
   "source": [
    "## Linear regression\n",
    "Linear regression over continuous variables. Output value of our linear regression is:\n",
    "$$y = \\vec{w}\\cdot\\vec{x}+c$$\n",
    "for output variable $y$, weight vector $\\vec{w}$ and variable vector $\\vec{x}$ and intercept $c$.\n",
    "\n",
    "Our goal is to minimize the squared error in the output $y$, so for a given predctor variable vector (i.e. set of predictive (independent) variables) $\\vec{x_0}$ and dependent variable $y_0$ in the training set, the error which we seek to minimize is:\n",
    "$$|y_0- y|^2 = |y_0 - (\\vec{w}\\cdot\\vec{x_0}+c)|^2$$\n",
    "\n",
    "We will minimze this error using gradient descent, which is somewhat overkill for this model for which we could use SVD. But we'll do this for pedagogical purposes."
   ]
  },
  {
   "cell_type": "code",
   "execution_count": 36,
   "metadata": {},
   "outputs": [],
   "source": [
    "#Make some data with a linear trend\n",
    "xs = np.random.randn(100,1)\n",
    "ys = 1.7 + xs[:,0] * 0.6+np.random.randn(100)*0.6"
   ]
  },
  {
   "cell_type": "code",
   "execution_count": 37,
   "metadata": {},
   "outputs": [
    {
     "data": {
      "image/png": "[encoded data removed]",
      "text/plain": [
       "<Figure size 432x288 with 1 Axes>"
      ]
     },
     "metadata": {},
     "output_type": "display_data"
    }
   ],
   "source": [
    "plt.plot(xs,ys, 'bo')\n",
    "plt.show()"
   ]
  },
  {
   "cell_type": "code",
   "execution_count": 62,
   "metadata": {},
   "outputs": [],
   "source": [
    "#Set the weights for each variable - in this case just one variable - and the intercept\n",
    "weights = tf.Variable([0.1])\n",
    "offset = tf.Variable(0.1)"
   ]
  },
  {
   "cell_type": "code",
   "execution_count": 64,
   "metadata": {},
   "outputs": [],
   "source": [
    "#Build our model\n",
    "#Make input placeholder\n",
    "x_ph = tf.placeholder(tf.float32, shape=[None,1], name = 'x_ph') #List of length-1 vectors\n",
    "#Make input placeholder\n",
    "y_ph = tf.placeholder(tf.float32, shape=[None], name = 'y_ph')\n",
    "\n",
    "#Node containing shape of predictive model\n",
    "#Numpy broadcasting rules for matrix multiplication will do the right thing here: [None,1]*[1] = [None]\n",
    "#Pay attention to the shapes and to tf.matmul vs tf.tensordot behavior\n",
    "prediction = tf.tensordot(x_ph,weights,axes=1) + offset\n",
    "\n",
    "#Node containing loss function to minimize\n",
    "#Minimize average loss (i.e. error squared) across all points\n",
    "loss = tf.reduce_mean((y_ph - prediction)**2, axis=0)\n",
    "\n",
    "#Gradient descent with 'GradientDescentOptimizer'\n",
    "learning_rate = 0.1\n",
    "train_step = tf.train.GradientDescentOptimizer(learning_rate).minimize(loss)\n",
    "#Learning rate can be a placeholder or result of another computation elsewhere in the graph\n",
    "\n",
    "#Create session\n",
    "#interactive session will be referenced by prediction.eval\n",
    "sess = tf.InteractiveSession()\n",
    "sess.run(tf.global_variables_initializer())\n",
    "#Make a new session at the same time as the gradient descent, \n",
    "# so that gradient descent can't be run several times for one session"
   ]
  },
  {
   "cell_type": "code",
   "execution_count": 65,
   "metadata": {},
   "outputs": [
    {
     "data": {
      "text/plain": [
       "TensorShape(None)"
      ]
     },
     "execution_count": 65,
     "metadata": {},
     "output_type": "execute_result"
    }
   ],
   "source": [
    "prediction.shape #[None,1]*[1] = [None]"
   ]
  },
  {
   "cell_type": "code",
   "execution_count": 66,
   "metadata": {},
   "outputs": [
    {
     "data": {
      "text/plain": [
       "array([0.1, 0.2, 0.3], dtype=float32)"
      ]
     },
     "execution_count": 66,
     "metadata": {},
     "output_type": "execute_result"
    }
   ],
   "source": [
    "#Compute prediction with initial weight, offset\n",
    "sess.run(prediction, feed_dict = {x_ph: [[0],[1],[2]]})"
   ]
  },
  {
   "cell_type": "code",
   "execution_count": 67,
   "metadata": {},
   "outputs": [],
   "source": [
    "#Test set:\n",
    "x = [0,1,2]\n",
    "y = [0.5, 1.0, 1.5]"
   ]
  },
  {
   "cell_type": "code",
   "execution_count": 43,
   "metadata": {},
   "outputs": [
    {
     "name": "stdout",
     "output_type": "stream",
     "text": [
      "0.7466667\n"
     ]
    },
    {
     "data": {
      "image/png": "[encoded data removed]",
      "text/plain": [
       "<Figure size 432x288 with 1 Axes>"
      ]
     },
     "metadata": {},
     "output_type": "display_data"
    }
   ],
   "source": [
    "#Compute loss - simple test model \n",
    "print(sess.run(loss,feed_dict = {\n",
    "             x_ph: [[i] for i in x],\n",
    "             y_ph: [0.5, 1.0, 1.5],\n",
    "}))\n",
    "\n",
    "plt.scatter(x,y)\n",
    "prediction_outputs = sess.run(prediction, feed_dict={x_ph:[[i] for i in x],})\n",
    "_=plt.plot(x,prediction_outputs, 'ro')"
   ]
  },
  {
   "cell_type": "code",
   "execution_count": 45,
   "metadata": {},
   "outputs": [
    {
     "name": "stdout",
     "output_type": "stream",
     "text": [
      "3.094189\n"
     ]
    },
    {
     "data": {
      "image/png": "[encoded data removed]",
      "text/plain": [
       "<Figure size 432x288 with 1 Axes>"
      ]
     },
     "metadata": {},
     "output_type": "display_data"
    }
   ],
   "source": [
    "#Compute loss - entire training set\n",
    "print(sess.run(loss,feed_dict = {\n",
    "             x_ph: xs,\n",
    "             y_ph: ys,\n",
    "}))\n",
    "\n",
    "plt.scatter(xs,ys)\n",
    "prediction_outputs = sess.run(prediction, feed_dict={x_ph:xs,})\n",
    "_=plt.plot(xs,prediction_outputs, 'ro')"
   ]
  },
  {
   "cell_type": "markdown",
   "metadata": {},
   "source": [
    "Be careful: y_ph and x_ph must be the same length in order to do the right thing, but tensorflow won't check it and will use numpy broadcasting rules for vectors of length 1."
   ]
  },
  {
   "cell_type": "markdown",
   "metadata": {},
   "source": [
    "## Gradient descent\n",
    "\n",
    "Optimize linear regression using gradient descent - first with simplest/default optimizer (\"Gradient descent optimizer\")"
   ]
  },
  {
   "cell_type": "code",
   "execution_count": 46,
   "metadata": {},
   "outputs": [],
   "source": [
    "#Run the train step node, which has the side effect of performing a step.\n",
    "sess.run(train_step,feed_dict = {\n",
    "             x_ph: xs,\n",
    "             y_ph: ys,\n",
    "})"
   ]
  },
  {
   "cell_type": "code",
   "execution_count": 68,
   "metadata": {},
   "outputs": [],
   "source": [
    "weights_list = []\n",
    "loss_list = []\n",
    "offset_list = []\n",
    "for i in range(0,100):\n",
    "    sess.run(train_step,feed_dict = {\n",
    "             x_ph: xs,\n",
    "             y_ph: ys,\n",
    "    })\n",
    "    weights_list = weights_list + [sess.run(weights)]\n",
    "    offset_list = offset_list + [sess.run(offset)]\n",
    "    loss_step = sess.run(loss,feed_dict = {\n",
    "             x_ph: xs,\n",
    "             y_ph: ys,})\n",
    "    loss_list = loss_list + [loss_step]"
   ]
  },
  {
   "cell_type": "code",
   "execution_count": 74,
   "metadata": {},
   "outputs": [
    {
     "data": {
      "text/plain": [
       "<matplotlib.legend.Legend at 0x118490748>"
      ]
     },
     "execution_count": 74,
     "metadata": {},
     "output_type": "execute_result"
    },
    {
     "data": {
      "image/png": "[encoded data removed]",
      "text/plain": [
       "<Figure size 432x288 with 1 Axes>"
      ]
     },
     "metadata": {},
     "output_type": "display_data"
    }
   ],
   "source": [
    "plt.plot(loss_list)\n",
    "plt.plot(offset_list)\n",
    "plt.plot(weights_list)\n",
    "plt.legend(['loss', 'offset', 'weight'])"
   ]
  },
  {
   "cell_type": "code",
   "execution_count": 76,
   "metadata": {},
   "outputs": [
    {
     "data": {
      "text/plain": [
       "array([0.705443], dtype=float32)"
      ]
     },
     "execution_count": 76,
     "metadata": {},
     "output_type": "execute_result"
    }
   ],
   "source": [
    "weights_list[-1]"
   ]
  },
  {
   "cell_type": "code",
   "execution_count": 77,
   "metadata": {},
   "outputs": [
    {
     "data": {
      "text/plain": [
       "0.3266881"
      ]
     },
     "execution_count": 77,
     "metadata": {},
     "output_type": "execute_result"
    }
   ],
   "source": [
    "loss_list[-1]"
   ]
  },
  {
   "cell_type": "code",
   "execution_count": 78,
   "metadata": {},
   "outputs": [
    {
     "data": {
      "text/plain": [
       "1.6935791"
      ]
     },
     "execution_count": 78,
     "metadata": {},
     "output_type": "execute_result"
    }
   ],
   "source": [
    "offset_list[-1]"
   ]
  },
  {
   "cell_type": "markdown",
   "metadata": {},
   "source": [
    "We find that this has converged to very close to the original parameters we used to make the data, with some loss irreducable due to noise. "
   ]
  },
  {
   "cell_type": "code",
   "execution_count": null,
   "metadata": {},
   "outputs": [],
   "source": []
  }
 ],
 "metadata": {
  "kernelspec": {
   "display_name": "Python 3",
   "language": "python",
   "name": "python3"
  },
  "language_info": {
   "codemirror_mode": {
    "name": "ipython",
    "version": 3
   },
   "file_extension": ".py",
   "mimetype": "text/x-python",
   "name": "python",
   "nbconvert_exporter": "python",
   "pygments_lexer": "ipython3",
   "version": "3.6.4"
  }
 },
 "nbformat": 4,
 "nbformat_minor": 2
}
