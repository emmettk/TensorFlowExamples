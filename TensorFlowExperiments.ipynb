{
 "cells": [
  {
   "cell_type": "markdown",
   "metadata": {},
   "source": [
    "# Learning Machine Learning - Some TensorFlow experiments\n",
    "E. Krupczak  - 18 Aug 2018\n"
   ]
  },
  {
   "cell_type": "code",
   "execution_count": null,
   "metadata": {},
   "outputs": [],
   "source": [
    "#Testing installation\n",
    "import tensorflow as tf\n",
    "#Make a node\n",
    "hello = tf.constant('Hello, TensorFlow!')\n",
    "sess = tf.Session()\n",
    "#Give next value of 'hello' node\n",
    "print(sess.run(hello))"
   ]
  },
  {
   "cell_type": "code",
   "execution_count": 1,
   "metadata": {},
   "outputs": [],
   "source": [
    "%matplotlib inline\n",
    "import tensorflow as tf\n",
    "import numpy as np\n",
    "import matplotlib.pyplot as plt\n",
    "sess = tf.InteractiveSession()"
   ]
  },
  {
   "cell_type": "markdown",
   "metadata": {},
   "source": [
    "Types of nodes:\n",
    "- Placeholders: feed in data\n",
    "- Variables: hold parameters of model\n",
    "- Computational nodes: represent eg. matrix multiplication. These computational nodes can sometimes have side effects,  make additional nodes, etc"
   ]
  },
  {
   "cell_type": "code",
   "execution_count": null,
   "metadata": {},
   "outputs": [],
   "source": [
    "#List of vectors of length 4\n",
    "input_ph = tf.placeholder(tf.float32, shape=[None,4]) #If dimension in shape is none, that dimension can be arbitrarily long"
   ]
  },
  {
   "cell_type": "code",
   "execution_count": null,
   "metadata": {},
   "outputs": [],
   "source": [
    "output = input_ph + 2*input_ph #Making a node in the graph"
   ]
  },
  {
   "cell_type": "code",
   "execution_count": null,
   "metadata": {},
   "outputs": [],
   "source": [
    "#values for the input\n",
    "input_array = np.random.randn(4,4)\n",
    "input_array"
   ]
  },
  {
   "cell_type": "code",
   "execution_count": null,
   "metadata": {},
   "outputs": [],
   "source": [
    "#Run the output node\n",
    "#feed dict: specify for every placeholder what its value is\n",
    "sess.run(output, feed_dict={\n",
    "    input_ph:input_array,\n",
    "})"
   ]
  },
  {
   "cell_type": "markdown",
   "metadata": {},
   "source": [
    "Variables: takes in an initial set of value and returns a special kind of node that declares to the graph that this variable might be changed by an optimization. E.g. parameters of a model"
   ]
  },
  {
   "cell_type": "markdown",
   "metadata": {},
   "source": [
    "## Linear regression\n",
    "Linear regression over continuous variables. Output value of our linear regression is:\n",
    "$$y = \\vec{w}\\cdot\\vec{x}+c$$\n",
    "for output variable $y$, weight vector $\\vec{w}$ and variable vector $\\vec{x}$ and intercept $c$.\n",
    "\n",
    "Our goal is to minimize the squared error in the output $y$, so for a given predctor variable vector (i.e. set of predictive (independent) variables) $\\vec{x_0}$ and dependent variable $y_0$ in the training set, the error which we seek to minimize is:\n",
    "$$|y_0- y|^2 = |y_0 - (\\vec{w}\\cdot\\vec{x_0}+c)|^2$$\n",
    "\n",
    "We will minimze this error using gradient descent, which is somewhat overkill for this model for which we could use SVD. But we'll do this for pedagogical purposes."
   ]
  },
  {
   "cell_type": "code",
   "execution_count": null,
   "metadata": {},
   "outputs": [],
   "source": [
    "#Make some data with a linear trend\n",
    "xs = np.random.randn(100,1)\n",
    "ys = 1.7 + xs[:,0] * 0.6+np.random.randn(100)*0.6"
   ]
  },
  {
   "cell_type": "code",
   "execution_count": null,
   "metadata": {},
   "outputs": [],
   "source": [
    "plt.plot(xs,ys, 'bo')\n",
    "plt.show()"
   ]
  },
  {
   "cell_type": "code",
   "execution_count": 2,
   "metadata": {},
   "outputs": [],
   "source": [
    "#Set the weights for each variable - in this case just one variable - and the intercept\n",
    "weights = tf.Variable([0.1])\n",
    "offset = tf.Variable(0.1)"
   ]
  },
  {
   "cell_type": "code",
   "execution_count": 3,
   "metadata": {},
   "outputs": [],
   "source": [
    "#Build our model\n",
    "#Make input placeholder\n",
    "x_ph = tf.placeholder(tf.float32, shape=[None,1], name = 'x_ph') #List of length-1 vectors\n",
    "#Make input placeholder\n",
    "y_ph = tf.placeholder(tf.float32, shape=[None], name = 'y_ph')\n",
    "\n",
    "#Node containing shape of predictive model\n",
    "#Numpy broadcasting rules for matrix multiplication will do the right thing here: [None,1]*[1] = [None]\n",
    "#Pay attention to the shapes and to tf.matmul vs tf.tensordot behavior\n",
    "prediction = tf.tensordot(x_ph,weights,axes=1) + offset\n",
    "\n",
    "#Node containing loss function to minimize\n",
    "#Minimize average loss (i.e. error squared) across all points\n",
    "loss = tf.reduce_mean((y_ph - prediction)**2, axis=0)\n",
    "\n",
    "#Gradient descent with 'GradientDescentOptimizer'\n",
    "learning_rate = 0.1\n",
    "train_step = tf.train.GradientDescentOptimizer(learning_rate).minimize(loss)\n",
    "#Learning rate can be a placeholder or result of another computation elsewhere in the graph\n",
    "\n",
    "#Create session\n",
    "#interactive session will be referenced by prediction.eval\n",
    "sess = tf.InteractiveSession()\n",
    "sess.run(tf.global_variables_initializer())\n",
    "#Make a new session at the same time as the gradient descent, \n",
    "# so that gradient descent can't be run several times for one session"
   ]
  },
  {
   "cell_type": "code",
   "execution_count": null,
   "metadata": {},
   "outputs": [],
   "source": [
    "prediction.shape #[None,1]*[1] = [None]"
   ]
  },
  {
   "cell_type": "code",
   "execution_count": null,
   "metadata": {},
   "outputs": [],
   "source": [
    "#Compute prediction with initial weight, offset\n",
    "sess.run(prediction, feed_dict = {x_ph: [[0],[1],[2]]})"
   ]
  },
  {
   "cell_type": "code",
   "execution_count": null,
   "metadata": {},
   "outputs": [],
   "source": [
    "#Test set:\n",
    "x = [0,1,2]\n",
    "y = [0.5, 1.0, 1.5]"
   ]
  },
  {
   "cell_type": "code",
   "execution_count": null,
   "metadata": {},
   "outputs": [],
   "source": [
    "#Compute loss - simple test model \n",
    "print(sess.run(loss,feed_dict = {\n",
    "             x_ph: [[i] for i in x],\n",
    "             y_ph: [0.5, 1.0, 1.5],\n",
    "}))\n",
    "\n",
    "plt.scatter(x,y)\n",
    "prediction_outputs = sess.run(prediction, feed_dict={x_ph:[[i] for i in x],})\n",
    "_=plt.plot(x,prediction_outputs, 'ro')"
   ]
  },
  {
   "cell_type": "code",
   "execution_count": null,
   "metadata": {},
   "outputs": [],
   "source": [
    "#Compute loss - entire training set\n",
    "print(sess.run(loss,feed_dict = {\n",
    "             x_ph: xs,\n",
    "             y_ph: ys,\n",
    "}))\n",
    "\n",
    "plt.scatter(xs,ys)\n",
    "prediction_outputs = sess.run(prediction, feed_dict={x_ph:xs,})\n",
    "_=plt.plot(xs,prediction_outputs, 'ro')"
   ]
  },
  {
   "cell_type": "markdown",
   "metadata": {},
   "source": [
    "Be careful: y_ph and x_ph must be the same length in order to do the right thing, but tensorflow won't check it and will use numpy broadcasting rules for vectors of length 1."
   ]
  },
  {
   "cell_type": "markdown",
   "metadata": {},
   "source": [
    "## Gradient descent\n",
    "\n",
    "Optimize linear regression using gradient descent - first with simplest/default optimizer (\"Gradient descent optimizer\")"
   ]
  },
  {
   "cell_type": "code",
   "execution_count": null,
   "metadata": {},
   "outputs": [],
   "source": [
    "#Run the train step node, which has the side effect of performing a step.\n",
    "sess.run(train_step,feed_dict = {\n",
    "             x_ph: xs,\n",
    "             y_ph: ys,\n",
    "})"
   ]
  },
  {
   "cell_type": "code",
   "execution_count": null,
   "metadata": {},
   "outputs": [],
   "source": [
    "weights_list = []\n",
    "loss_list = []\n",
    "offset_list = []\n",
    "for i in range(0,100):\n",
    "    sess.run(train_step,feed_dict = {\n",
    "             x_ph: xs,\n",
    "             y_ph: ys,\n",
    "    })\n",
    "    weights_list = weights_list + [sess.run(weights)]\n",
    "    offset_list = offset_list + [sess.run(offset)]\n",
    "    loss_step = sess.run(loss,feed_dict = {\n",
    "             x_ph: xs,\n",
    "             y_ph: ys,})\n",
    "    loss_list = loss_list + [loss_step]"
   ]
  },
  {
   "cell_type": "code",
   "execution_count": null,
   "metadata": {},
   "outputs": [],
   "source": [
    "plt.plot(loss_list)\n",
    "plt.plot(offset_list)\n",
    "plt.plot(weights_list)\n",
    "plt.legend(['loss', 'offset', 'weight'])"
   ]
  },
  {
   "cell_type": "code",
   "execution_count": null,
   "metadata": {},
   "outputs": [],
   "source": [
    "weights_list[-1]"
   ]
  },
  {
   "cell_type": "code",
   "execution_count": null,
   "metadata": {},
   "outputs": [],
   "source": [
    "loss_list[-1]"
   ]
  },
  {
   "cell_type": "code",
   "execution_count": null,
   "metadata": {},
   "outputs": [],
   "source": [
    "offset_list[-1]"
   ]
  },
  {
   "cell_type": "code",
   "execution_count": null,
   "metadata": {},
   "outputs": [],
   "source": [
    "plt.scatter(xs,ys)\n",
    "prediction_outputs = sess.run(prediction, feed_dict={x_ph:xs,})\n",
    "_=plt.plot(xs,prediction_outputs, 'ro')"
   ]
  },
  {
   "cell_type": "markdown",
   "metadata": {},
   "source": [
    "We find that this has converged to very close to the original parameters we used to make the data, with some loss irreducable due to noise. \n",
    "\n",
    "This was a linear model, but no reason we can't make something more complicated\n",
    "\n",
    "## Quadratic model\n",
    "We will add and modify a few things in our model to make it more complicated, starting by adding a quadratic term "
   ]
  },
  {
   "cell_type": "code",
   "execution_count": 7,
   "metadata": {},
   "outputs": [],
   "source": [
    "#A weight to use for the quadratic term\n",
    "weights2 = tf.Variable([0.1])\n",
    "#Quadratic Model\n",
    "prediction = offset + tf.tensordot(x_ph, weights, axes=1) + tf.tensordot(x_ph**2, weights2, axes=1)\n",
    "\n",
    "#Node containing loss function to minimize\n",
    "#Minimize average loss (i.e. error squared) across all points\n",
    "loss = tf.reduce_mean((y_ph - prediction)**2, axis=0)\n",
    "\n",
    "#Gradient descent with 'GradientDescentOptimizer'\n",
    "learning_rate = 0.1\n",
    "train_step = tf.train.GradientDescentOptimizer(learning_rate).minimize(loss)\n",
    "#Learning rate can be a placeholder or result of another computation elsewhere in the graph\n",
    "\n",
    "#New data with a quadratic trend\n",
    "xs = np.random.randn(100,1)\n",
    "ys = 1.7 + xs[:,0] * 0.6 - 1.3*xs[:,0]**2 +np.random.randn(100)*0.6\n",
    "\n",
    "#New session\n",
    "sess = tf.Session()\n",
    "sess.run(tf.global_variables_initializer())"
   ]
  },
  {
   "cell_type": "code",
   "execution_count": 8,
   "metadata": {},
   "outputs": [
    {
     "name": "stdout",
     "output_type": "stream",
     "text": [
      "5.747785\n"
     ]
    },
    {
     "data": {
      "image/png": "[encoded data removed]",
      "text/plain": [
       "<Figure size 432x288 with 1 Axes>"
      ]
     },
     "metadata": {},
     "output_type": "display_data"
    }
   ],
   "source": [
    "#Compute loss - entire training set\n",
    "print(sess.run(loss,feed_dict = {\n",
    "             x_ph: xs,\n",
    "             y_ph: ys,\n",
    "}))\n",
    "\n",
    "#Plot data vs prediction for original variable values\n",
    "plt.scatter(xs,ys)\n",
    "prediction_outputs = sess.run(prediction, feed_dict={x_ph:xs,})\n",
    "_=plt.plot(xs,prediction_outputs, 'ro')"
   ]
  },
  {
   "cell_type": "code",
   "execution_count": 9,
   "metadata": {},
   "outputs": [],
   "source": [
    "#Train\n",
    "weights_list = []\n",
    "loss_list = []\n",
    "offset_list = []\n",
    "for i in range(0,100):\n",
    "    sess.run(train_step,feed_dict = {\n",
    "             x_ph: xs,\n",
    "             y_ph: ys,\n",
    "    })\n",
    "    weights_list.append(sess.run(weights))\n",
    "    offset_list.append(sess.run(offset))\n",
    "    loss_step = sess.run(loss,feed_dict = {\n",
    "             x_ph: xs,\n",
    "             y_ph: ys,})\n",
    "    loss_list.append(loss_step)"
   ]
  },
  {
   "cell_type": "code",
   "execution_count": 10,
   "metadata": {},
   "outputs": [
    {
     "data": {
      "image/png": "[encoded data removed]",
      "text/plain": [
       "<Figure size 432x288 with 1 Axes>"
      ]
     },
     "metadata": {},
     "output_type": "display_data"
    }
   ],
   "source": [
    "plt.scatter(xs,ys)\n",
    "prediction_outputs = sess.run(prediction, feed_dict={x_ph:xs,})\n",
    "_=plt.plot(xs,prediction_outputs, 'ro')"
   ]
  },
  {
   "cell_type": "code",
   "execution_count": 11,
   "metadata": {},
   "outputs": [
    {
     "data": {
      "text/plain": [
       "<matplotlib.legend.Legend at 0x117ac3048>"
      ]
     },
     "execution_count": 11,
     "metadata": {},
     "output_type": "execute_result"
    },
    {
     "data": {
      "image/png": "[encoded data removed]",
      "text/plain": [
       "<Figure size 432x288 with 1 Axes>"
      ]
     },
     "metadata": {},
     "output_type": "display_data"
    }
   ],
   "source": [
    "plt.plot(loss_list)\n",
    "plt.plot(offset_list)\n",
    "plt.plot(weights_list)\n",
    "plt.legend(['loss', 'offset', 'weight'])"
   ]
  },
  {
   "cell_type": "code",
   "execution_count": null,
   "metadata": {},
   "outputs": [],
   "source": []
  }
 ],
 "metadata": {
  "kernelspec": {
   "display_name": "Python 3",
   "language": "python",
   "name": "python3"
  },
  "language_info": {
   "codemirror_mode": {
    "name": "ipython",
    "version": 3
   },
   "file_extension": ".py",
   "mimetype": "text/x-python",
   "name": "python",
   "nbconvert_exporter": "python",
   "pygments_lexer": "ipython3",
   "version": "3.6.4"
  }
 },
 "nbformat": 4,
 "nbformat_minor": 2
}
