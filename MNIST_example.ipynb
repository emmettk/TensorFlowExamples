{
 "cells": [
  {
   "cell_type": "markdown",
   "metadata": {},
   "source": [
    "# MNIST Tensor flow example\n",
    "E. Krupczak - 18 Aug 2018"
   ]
  },
  {
   "cell_type": "code",
   "execution_count": 1,
   "metadata": {},
   "outputs": [
    {
     "name": "stdout",
     "output_type": "stream",
     "text": [
      "Extracting MNIST_data/train-images-idx3-ubyte.gz\n",
      "Extracting MNIST_data/train-labels-idx1-ubyte.gz\n",
      "Extracting MNIST_data/t10k-images-idx3-ubyte.gz\n",
      "Extracting MNIST_data/t10k-labels-idx1-ubyte.gz\n"
     ]
    }
   ],
   "source": [
    "import numpy as np\n",
    "import tensorflow as tf\n",
    "import matplotlib.pyplot as plt\n",
    "import random\n",
    "\n",
    "#Import mnist data, which comes with tensor flow\n",
    "from tensorflow.examples.tutorials.mnist import input_data\n",
    "mnist = input_data.read_data_sets('MNIST_data', one_hot=True)"
   ]
  },
  {
   "cell_type": "markdown",
   "metadata": {},
   "source": [
    "Components of MNIST\n",
    "- mnist.train\n",
    "- mnist.test\n",
    "- mnist.validation\n",
    "Each with images and labels"
   ]
  },
  {
   "cell_type": "code",
   "execution_count": null,
   "metadata": {},
   "outputs": [],
   "source": [
    "mnist.train.labels"
   ]
  },
  {
   "cell_type": "code",
   "execution_count": null,
   "metadata": {},
   "outputs": [],
   "source": [
    "mnist.train.labels.shape"
   ]
  },
  {
   "cell_type": "code",
   "execution_count": null,
   "metadata": {},
   "outputs": [],
   "source": [
    "#This is a six\n",
    "mnist.train.labels[600]"
   ]
  },
  {
   "cell_type": "code",
   "execution_count": null,
   "metadata": {},
   "outputs": [],
   "source": [
    "#this is the first image\n",
    "plt.matshow(mnist.train.images[600].reshape((28,-1)))"
   ]
  },
  {
   "cell_type": "code",
   "execution_count": 2,
   "metadata": {},
   "outputs": [],
   "source": [
    "# Function to make weight and bias variables\n",
    "# Number of weight variables: 784*number of nodes in next layer\n",
    "# Number of bias (i.e. offset/intercept) variables: number of nodes in next layer\n",
    "\n",
    "def weight_variable(shape):\n",
    "    '''For matrix multiplication in fully-connected layers, weight variable shape is: input size * output size.'''\n",
    "    #Normally distributed variables clamped between 0-1 with stddev as given\n",
    "    initial = tf.truncated_normal(shape, stddev=0.1)\n",
    "    #Return variable node\n",
    "    return tf.Variable(initial)\n",
    "\n",
    "def bias_variable(shape):\n",
    "    ''' Bias variable shape is number of loads in next layer. '''\n",
    "    #Slightly positive so we preserve more gradients for RELU non-linearity \n",
    "    initial = tf.constant(0.1, shape = shape)\n",
    "    return tf.Variable(initial)"
   ]
  },
  {
   "cell_type": "code",
   "execution_count": 3,
   "metadata": {},
   "outputs": [],
   "source": [
    "#input placeholder - 28x28 represented as a 784-length vector\n",
    "input_ph = tf.placeholder(tf.float32, shape=[None,28*28], name = 'input_ph')\n",
    "#output placeholder - a 10-length vector containing logits\n",
    "output_ph = tf.placeholder(tf.float32, shape=[None,10], name = 'output_ph')\n",
    "\n",
    "#flow stores current node as we process through the layers\n",
    "#Starts by pointing to placeholder node for input\n",
    "flow = input_ph\n",
    "\n",
    "#Make some layers\n",
    "def make_layer(n):\n",
    "    global flow\n",
    "    #Use the shape of the previous layer to make the weight variable for the next\n",
    "    w1 = weight_variable((int(flow.shape[-1]), n))\n",
    "    b1 = bias_variable((n,))\n",
    "    #right-multiply by the weight\n",
    "    #flow points to computational node\n",
    "    flow = tf.matmul(flow,w1)+b1\n",
    "    \n",
    "def make_nonlinearity():\n",
    "    '''rectified linear'''\n",
    "    global flow\n",
    "    #updates computational node held by flow\n",
    "    flow = tf.nn.relu(flow)\n",
    "    \n",
    "#Intersperse nonlinearity between the affine layers\n",
    "#Layer 1 - 100 nodes\n",
    "make_layer(100)\n",
    "make_nonlinearity()\n",
    "#Layer 2 - 50 nodes\n",
    "make_layer(50)\n",
    "make_nonlinearity()\n",
    "#Layer 3 (output) - 10 nodes\n",
    "make_layer(10)\n",
    "\n",
    "network_output = flow\n",
    "\n",
    "#Make loss computational node (returns loss as a number)\n",
    "##Simplest loss function (squared error)\n",
    "#loss = tf.reduce_mean((output_ph - network_output)**2)\n",
    "##Cross-entropy loss\n",
    "loss = tf.reduce_mean(tf.nn.softmax_cross_entropy_with_logits_v2(\n",
    "    labels=output_ph, \n",
    "    logits=network_output, #unnormalized log probabilities of label classes\n",
    "))\n",
    "\n",
    "##Accuracy nodes\n",
    "accuracy = tf.reduce_mean(tf.cast(\n",
    "    tf.equal(tf.argmax(network_output,1), tf.argmax(output_ph,1)),\n",
    "    tf.float32,\n",
    "))\n",
    "\n",
    "#Gradient descent with 'GradientDescentOptimizer'\n",
    "learning_rate = 0.1\n",
    "#make training step computational node (has only side effects; returns none)\n",
    "train_step = tf.train.GradientDescentOptimizer(learning_rate).minimize(loss)\n",
    "\n",
    "#Make a new session\n",
    "sess = tf.Session()\n",
    "sess.run(tf.global_variables_initializer())"
   ]
  },
  {
   "cell_type": "code",
   "execution_count": 4,
   "metadata": {},
   "outputs": [],
   "source": [
    "val_loss_list = []\n",
    "in_sample_loss_list = []\n",
    "accuracy_list = []"
   ]
  },
  {
   "cell_type": "code",
   "execution_count": 14,
   "metadata": {},
   "outputs": [
    {
     "name": "stdout",
     "output_type": "stream",
     "text": [
      "Step: 4100  Validation: 0.11132942 In-sample: 0.094212644 Acc: 0.9674\n",
      "Step: 4200  Validation: 0.107897386 In-sample: 0.092770755 Acc: 0.9652\n",
      "Step: 4300  Validation: 0.10337444 In-sample: 0.0904911 Acc: 0.9702\n",
      "Step: 4400  Validation: 0.102774575 In-sample: 0.08517225 Acc: 0.9704\n",
      "Step: 4500  Validation: 0.107951194 In-sample: 0.08475783 Acc: 0.9676\n",
      "Step: 4600  Validation: 0.11713794 In-sample: 0.09578929 Acc: 0.9646\n",
      "Step: 4700  Validation: 0.10675399 In-sample: 0.082872376 Acc: 0.9682\n",
      "Step: 4800  Validation: 0.10585072 In-sample: 0.08482863 Acc: 0.9668\n",
      "Step: 4900  Validation: 0.10471206 In-sample: 0.08423912 Acc: 0.9658\n",
      "Step: 5000  Validation: 0.0969524 In-sample: 0.07277669 Acc: 0.969\n",
      "Step: 5100  Validation: 0.09997456 In-sample: 0.07641756 Acc: 0.968\n",
      "Step: 5200  Validation: 0.100301586 In-sample: 0.075224414 Acc: 0.967\n",
      "Step: 5300  Validation: 0.09873586 In-sample: 0.072087266 Acc: 0.9692\n",
      "Step: 5400  Validation: 0.09464411 In-sample: 0.068617925 Acc: 0.9716\n",
      "Step: 5500  Validation: 0.105384104 In-sample: 0.08072491 Acc: 0.9682\n",
      "Step: 5600  Validation: 0.10017282 In-sample: 0.07192314 Acc: 0.9672\n",
      "Step: 5700  Validation: 0.09447482 In-sample: 0.06869673 Acc: 0.9708\n",
      "Step: 5800  Validation: 0.10866682 In-sample: 0.08444634 Acc: 0.9666\n",
      "Step: 5900  Validation: 0.096661456 In-sample: 0.0680762 Acc: 0.97\n",
      "Step: 6000  Validation: 0.0998668 In-sample: 0.071609624 Acc: 0.9726\n",
      "Step: 6100  Validation: 0.11155481 In-sample: 0.07827521 Acc: 0.9684\n",
      "Step: 6200  Validation: 0.10344537 In-sample: 0.06980724 Acc: 0.9688\n",
      "Step: 6300  Validation: 0.104073256 In-sample: 0.07089949 Acc: 0.9676\n",
      "Step: 6400  Validation: 0.10091031 In-sample: 0.065875225 Acc: 0.9698\n",
      "Step: 6500  Validation: 0.10466397 In-sample: 0.065958016 Acc: 0.9716\n",
      "Step: 6600  Validation: 0.11274607 In-sample: 0.07454544 Acc: 0.9686\n",
      "Step: 6700  Validation: 0.09794156 In-sample: 0.061934967 Acc: 0.9696\n",
      "Step: 6800  Validation: 0.10236873 In-sample: 0.0694717 Acc: 0.9676\n",
      "Step: 6900  Validation: 0.118248716 In-sample: 0.07646501 Acc: 0.966\n",
      "Step: 7000  Validation: 0.09251385 In-sample: 0.06287442 Acc: 0.972\n",
      "Step: 7100  Validation: 0.1057707 In-sample: 0.064080894 Acc: 0.9712\n",
      "Step: 7200  Validation: 0.092777394 In-sample: 0.05662886 Acc: 0.9728\n",
      "Step: 7300  Validation: 0.09193631 In-sample: 0.05569122 Acc: 0.9714\n",
      "Step: 7400  Validation: 0.10263816 In-sample: 0.06704569 Acc: 0.9702\n",
      "Step: 7500  Validation: 0.09488512 In-sample: 0.056512512 Acc: 0.9718\n",
      "Step: 7600  Validation: 0.089441784 In-sample: 0.05773124 Acc: 0.9736\n",
      "Step: 7700  Validation: 0.09323225 In-sample: 0.056088153 Acc: 0.9716\n",
      "Step: 7800  Validation: 0.089538604 In-sample: 0.056322422 Acc: 0.9734\n",
      "Step: 7900  Validation: 0.091160096 In-sample: 0.054253414 Acc: 0.9734\n",
      "Step: 8000  Validation: 0.09430902 In-sample: 0.05766274 Acc: 0.9728\n"
     ]
    }
   ],
   "source": [
    "#Train the model\n",
    "minibatchsize = 32\n",
    "for i in range(40):\n",
    "    #Compute loss and accuracy across validation set\n",
    "    val_acc, val_loss = sess.run([accuracy,loss], feed_dict={\n",
    "        input_ph: mnist.validation.images,\n",
    "        output_ph: mnist.validation.labels,\n",
    "    })\n",
    "    #Compute loss in sample\n",
    "    in_sample_loss = sess.run(loss, feed_dict={\n",
    "        input_ph: mnist.train.images,\n",
    "        output_ph: mnist.train.labels,\n",
    "    })\n",
    "    \n",
    "    accuracy_list.append(val_acc)\n",
    "    val_loss_list.append(val_loss)\n",
    "    in_sample_loss_list.append(in_sample_loss)\n",
    "    \n",
    "    for j in range(100):\n",
    "        minibatch_indices = random.sample(range(len(mnist.train.labels)),minibatchsize)\n",
    "        sess.run(train_step, feed_dict={\n",
    "            input_ph: [mnist.train.images[i] for i in minibatch_indices],\n",
    "            output_ph: [mnist.train.labels[i] for i in minibatch_indices],\n",
    "        })\n",
    "    print('Step:', len(val_loss_list)*100, ' Validation:', val_loss, 'In-sample:', in_sample_loss, 'Acc:', val_acc)"
   ]
  },
  {
   "cell_type": "code",
   "execution_count": 15,
   "metadata": {},
   "outputs": [
    {
     "data": {
      "text/plain": [
       "<matplotlib.legend.Legend at 0x119f30c18>"
      ]
     },
     "execution_count": 15,
     "metadata": {},
     "output_type": "execute_result"
    },
    {
     "data": {
      "image/png": "[encoded data removed]",
      "text/plain": [
       "<Figure size 432x288 with 1 Axes>"
      ]
     },
     "metadata": {},
     "output_type": "display_data"
    }
   ],
   "source": [
    "plt.plot(val_loss_list[10:])\n",
    "plt.plot(in_sample_loss_list[10:])\n",
    "plt.legend(['validation', 'in-sample'])"
   ]
  },
  {
   "cell_type": "code",
   "execution_count": null,
   "metadata": {},
   "outputs": [],
   "source": [
    "#Run the model on the test images\n",
    "model_output = sess.run(network_output, feed_dict={\n",
    "    input_ph:mnist.test.images[0:10],\n",
    "})"
   ]
  },
  {
   "cell_type": "code",
   "execution_count": null,
   "metadata": {},
   "outputs": [],
   "source": [
    "model_output[0]"
   ]
  },
  {
   "cell_type": "code",
   "execution_count": null,
   "metadata": {},
   "outputs": [],
   "source": [
    "def softmax(x):\n",
    "    x = np.exp(x)\n",
    "    return x/x.sum()"
   ]
  },
  {
   "cell_type": "code",
   "execution_count": null,
   "metadata": {},
   "outputs": [],
   "source": [
    "f, (ax1, ax2) = plt.subplots(1, 2, sharey=True)\n",
    "ax1.matshow([softmax(x) for x in model_output])\n",
    "ax2.matshow(mnist.test.labels[0:10])"
   ]
  },
  {
   "cell_type": "code",
   "execution_count": null,
   "metadata": {},
   "outputs": [],
   "source": [
    "plt.matshow(mnist.test.images[8].reshape((28,28)))"
   ]
  }
 ],
 "metadata": {
  "kernelspec": {
   "display_name": "Python 3",
   "language": "python",
   "name": "python3"
  },
  "language_info": {
   "codemirror_mode": {
    "name": "ipython",
    "version": 3
   },
   "file_extension": ".py",
   "mimetype": "text/x-python",
   "name": "python",
   "nbconvert_exporter": "python",
   "pygments_lexer": "ipython3",
   "version": "3.6.4"
  }
 },
 "nbformat": 4,
 "nbformat_minor": 2
}
