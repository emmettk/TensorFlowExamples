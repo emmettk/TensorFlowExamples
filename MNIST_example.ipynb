{
 "cells": [
  {
   "cell_type": "markdown",
   "metadata": {},
   "source": [
    "# MNIST Tensor flow example\n",
    "E. Krupczak - 18 Aug 2018"
   ]
  },
  {
   "cell_type": "code",
   "execution_count": 1,
   "metadata": {},
   "outputs": [
    {
     "name": "stdout",
     "output_type": "stream",
     "text": [
      "Extracting MNIST_data/train-images-idx3-ubyte.gz\n",
      "Extracting MNIST_data/train-labels-idx1-ubyte.gz\n",
      "Extracting MNIST_data/t10k-images-idx3-ubyte.gz\n",
      "Extracting MNIST_data/t10k-labels-idx1-ubyte.gz\n"
     ]
    }
   ],
   "source": [
    "import numpy as np\n",
    "import tensorflow as tf\n",
    "import matplotlib.pyplot as plt\n",
    "import random\n",
    "\n",
    "#Import mnist data, which comes with tensor flow\n",
    "from tensorflow.examples.tutorials.mnist import input_data\n",
    "mnist = input_data.read_data_sets('MNIST_data', one_hot=True)"
   ]
  },
  {
   "cell_type": "markdown",
   "metadata": {},
   "source": [
    "Components of MNIST\n",
    "- mnist.train\n",
    "- mnist.test\n",
    "- mnist.validation\n",
    "Each with images and labels"
   ]
  },
  {
   "cell_type": "code",
   "execution_count": null,
   "metadata": {},
   "outputs": [],
   "source": [
    "mnist.train.labels"
   ]
  },
  {
   "cell_type": "code",
   "execution_count": null,
   "metadata": {},
   "outputs": [],
   "source": [
    "mnist.train.labels.shape"
   ]
  },
  {
   "cell_type": "code",
   "execution_count": null,
   "metadata": {},
   "outputs": [],
   "source": [
    "#This is a six\n",
    "mnist.train.labels[600]"
   ]
  },
  {
   "cell_type": "code",
   "execution_count": null,
   "metadata": {},
   "outputs": [],
   "source": [
    "#this is the first image\n",
    "plt.matshow(mnist.train.images[600].reshape((28,-1)))"
   ]
  },
  {
   "cell_type": "code",
   "execution_count": 2,
   "metadata": {},
   "outputs": [],
   "source": [
    "# Function to make weight and bias variables\n",
    "# Number of weight variables: 784*number of nodes in next layer\n",
    "# Number of bias (i.e. offset/intercept) variables: number of nodes in next layer\n",
    "\n",
    "def weight_variable(shape):\n",
    "    '''For matrix multiplication in fully-connected layers, weight variable shape is: input size * output size.'''\n",
    "    #Normally distributed variables clamped between 0-1 with stddev as given\n",
    "    initial = tf.truncated_normal(shape, stddev=0.1)\n",
    "    #Return variable node\n",
    "    return tf.Variable(initial)\n",
    "\n",
    "def bias_variable(shape):\n",
    "    ''' Bias variable shape is number of loads in next layer. '''\n",
    "    #Slightly positive so we preserve more gradients for RELU non-linearity \n",
    "    initial = tf.constant(0.1, shape = shape)\n",
    "    return tf.Variable(initial)"
   ]
  },
  {
   "cell_type": "code",
   "execution_count": 3,
   "metadata": {},
   "outputs": [],
   "source": [
    "#input placeholder - 28x28 represented as a 784-length vector\n",
    "input_ph = tf.placeholder(tf.float32, shape=[None,28*28], name = 'input_ph')\n",
    "#output placeholder - a 10-length vector containing logits\n",
    "output_ph = tf.placeholder(tf.float32, shape=[None,10], name = 'output_ph')\n",
    "\n",
    "#flow stores current node as we process through the layers\n",
    "#Starts by pointing to placeholder node for input\n",
    "flow = input_ph\n",
    "\n",
    "#Make some layers\n",
    "def make_layer(n):\n",
    "    global flow\n",
    "    #Use the shape of the previous layer to make the weight variable for the next\n",
    "    w1 = weight_variable((int(flow.shape[-1]), n))\n",
    "    b1 = bias_variable((n,))\n",
    "    #right-multiply by the weight\n",
    "    #flow points to computational node\n",
    "    flow = tf.matmul(flow,w1)+b1\n",
    "    \n",
    "def make_nonlinearity():\n",
    "    '''rectified linear'''\n",
    "    global flow\n",
    "    #updates computational node held by flow\n",
    "    flow = tf.nn.relu(flow)\n",
    "    \n",
    "#Intersperse nonlinearity between the affine layers\n",
    "#Layer 1 - 100 nodes\n",
    "make_layer(100)\n",
    "make_nonlinearity()\n",
    "#Layer 2 - 50 nodes\n",
    "make_layer(50)\n",
    "make_nonlinearity()\n",
    "#Layer 3 (output) - 10 nodes\n",
    "make_layer(10)\n",
    "\n",
    "network_output = flow\n",
    "\n",
    "#Make loss computational node (returns loss as a number)\n",
    "##Simplest loss function (squared error)\n",
    "#loss = tf.reduce_mean((output_ph - network_output)**2)\n",
    "##Cross-entropy loss\n",
    "loss = tf.reduce_mean(tf.nn.softmax_cross_entropy_with_logits_v2(\n",
    "    labels=output_ph, \n",
    "    logits=network_output, #unnormalized log probabilities of label classes\n",
    "))\n",
    "\n",
    "##Accuracy nodes\n",
    "accuracy = tf.reduce_mean(tf.cast(\n",
    "    tf.equal(tf.argmax(network_output,1), tf.argmax(output_ph,1)),\n",
    "    tf.float32,\n",
    "))\n",
    "\n",
    "#Gradient descent with 'GradientDescentOptimizer'\n",
    "learning_rate = 0.1\n",
    "#make training step computational node (has only side effects; returns none)\n",
    "train_step = tf.train.GradientDescentOptimizer(learning_rate).minimize(loss)\n",
    "\n",
    "#Make a new session\n",
    "sess = tf.Session()\n",
    "sess.run(tf.global_variables_initializer())"
   ]
  },
  {
   "cell_type": "code",
   "execution_count": 4,
   "metadata": {},
   "outputs": [],
   "source": [
    "val_loss_list = []\n",
    "in_sample_loss_list = []\n",
    "accuracy_list = []"
   ]
  },
  {
   "cell_type": "code",
   "execution_count": 8,
   "metadata": {},
   "outputs": [
    {
     "name": "stdout",
     "output_type": "stream",
     "text": [
      "Step: 2100  Validation: 0.15665115 In-sample: 0.15348625 Acc: 0.9536\n",
      "Step: 2200  Validation: 0.14947611 In-sample: 0.14640382 Acc: 0.957\n",
      "Step: 2300  Validation: 0.1342977 In-sample: 0.13068222 Acc: 0.9596\n",
      "Step: 2400  Validation: 0.13476017 In-sample: 0.13284393 Acc: 0.9576\n",
      "Step: 2500  Validation: 0.141157 In-sample: 0.13441148 Acc: 0.959\n",
      "Step: 2600  Validation: 0.135856 In-sample: 0.13002224 Acc: 0.958\n",
      "Step: 2700  Validation: 0.13451104 In-sample: 0.12590297 Acc: 0.961\n",
      "Step: 2800  Validation: 0.14565775 In-sample: 0.13990141 Acc: 0.9572\n",
      "Step: 2900  Validation: 0.12208656 In-sample: 0.1121916 Acc: 0.9634\n",
      "Step: 3000  Validation: 0.12196587 In-sample: 0.11424993 Acc: 0.9628\n",
      "Step: 3100  Validation: 0.12804233 In-sample: 0.11644732 Acc: 0.9616\n",
      "Step: 3200  Validation: 0.11990852 In-sample: 0.108365074 Acc: 0.9634\n",
      "Step: 3300  Validation: 0.1235372 In-sample: 0.10873625 Acc: 0.9636\n",
      "Step: 3400  Validation: 0.11589585 In-sample: 0.10357172 Acc: 0.9674\n",
      "Step: 3500  Validation: 0.12657934 In-sample: 0.11235044 Acc: 0.9622\n",
      "Step: 3600  Validation: 0.13851206 In-sample: 0.13423163 Acc: 0.9568\n",
      "Step: 3700  Validation: 0.12070993 In-sample: 0.10344908 Acc: 0.9648\n",
      "Step: 3800  Validation: 0.117793165 In-sample: 0.097046174 Acc: 0.966\n",
      "Step: 3900  Validation: 0.12450355 In-sample: 0.11170018 Acc: 0.9634\n",
      "Step: 4000  Validation: 0.11659507 In-sample: 0.100494556 Acc: 0.9664\n"
     ]
    }
   ],
   "source": [
    "#Train the model\n",
    "minibatchsize = 32\n",
    "for i in range(20):\n",
    "    #Compute loss and accuracy across validation set\n",
    "    val_acc, val_loss = sess.run([accuracy,loss], feed_dict={\n",
    "        input_ph: mnist.validation.images,\n",
    "        output_ph: mnist.validation.labels,\n",
    "    })\n",
    "    #Compute loss in sample\n",
    "    in_sample_loss = sess.run(loss, feed_dict={\n",
    "        input_ph: mnist.train.images,\n",
    "        output_ph: mnist.train.labels,\n",
    "    })\n",
    "    \n",
    "    accuracy_list.append(val_acc)\n",
    "    val_loss_list.append(val_loss)\n",
    "    in_sample_loss_list.append(in_sample_loss)\n",
    "    \n",
    "    for j in range(100):\n",
    "        minibatch_indices = random.sample(range(len(mnist.train.labels)),minibatchsize)\n",
    "        sess.run(train_step, feed_dict={\n",
    "            input_ph: [mnist.train.images[i] for i in minibatch_indices],\n",
    "            output_ph: [mnist.train.labels[i] for i in minibatch_indices],\n",
    "        })\n",
    "    print('Step:', len(val_loss_list)*100, ' Validation:', val_loss, 'In-sample:', in_sample_loss, 'Acc:', val_acc)"
   ]
  },
  {
   "cell_type": "code",
   "execution_count": 9,
   "metadata": {},
   "outputs": [
    {
     "data": {
      "text/plain": [
       "<matplotlib.legend.Legend at 0x119b41080>"
      ]
     },
     "execution_count": 9,
     "metadata": {},
     "output_type": "execute_result"
    },
    {
     "data": {
      "image/png": "[encoded data removed]",
      "text/plain": [
       "<Figure size 432x288 with 1 Axes>"
      ]
     },
     "metadata": {},
     "output_type": "display_data"
    }
   ],
   "source": [
    "plt.plot(val_loss_list)\n",
    "plt.plot(in_sample_loss_list)\n",
    "plt.plot(accuracy_list)\n",
    "plt.legend(['validation', 'in-sample', 'accuracy'])"
   ]
  },
  {
   "cell_type": "code",
   "execution_count": null,
   "metadata": {},
   "outputs": [],
   "source": [
    "#Run the model on the test images\n",
    "model_output = sess.run(network_output, feed_dict={\n",
    "    input_ph:mnist.test.images[0:10],\n",
    "})"
   ]
  },
  {
   "cell_type": "code",
   "execution_count": null,
   "metadata": {},
   "outputs": [],
   "source": [
    "model_output[0]"
   ]
  },
  {
   "cell_type": "code",
   "execution_count": null,
   "metadata": {},
   "outputs": [],
   "source": [
    "def softmax(x):\n",
    "    x = np.exp(x)\n",
    "    return x/x.sum()"
   ]
  },
  {
   "cell_type": "code",
   "execution_count": null,
   "metadata": {},
   "outputs": [],
   "source": [
    "f, (ax1, ax2) = plt.subplots(1, 2, sharey=True)\n",
    "ax1.matshow([softmax(x) for x in model_output])\n",
    "ax2.matshow(mnist.test.labels[0:10])"
   ]
  },
  {
   "cell_type": "code",
   "execution_count": null,
   "metadata": {},
   "outputs": [],
   "source": [
    "plt.matshow(mnist.test.images[8].reshape((28,28)))"
   ]
  }
 ],
 "metadata": {
  "kernelspec": {
   "display_name": "Python 3",
   "language": "python",
   "name": "python3"
  },
  "language_info": {
   "codemirror_mode": {
    "name": "ipython",
    "version": 3
   },
   "file_extension": ".py",
   "mimetype": "text/x-python",
   "name": "python",
   "nbconvert_exporter": "python",
   "pygments_lexer": "ipython3",
   "version": "3.6.4"
  }
 },
 "nbformat": 4,
 "nbformat_minor": 2
}
