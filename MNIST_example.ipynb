{
 "cells": [
  {
   "cell_type": "markdown",
   "metadata": {},
   "source": [
    "# MNIST Tensor flow example\n",
    "E. Krupczak - 18 Aug 2018"
   ]
  },
  {
   "cell_type": "code",
   "execution_count": 10,
   "metadata": {},
   "outputs": [
    {
     "name": "stdout",
     "output_type": "stream",
     "text": [
      "Extracting MNIST_data/train-images-idx3-ubyte.gz\n",
      "Extracting MNIST_data/train-labels-idx1-ubyte.gz\n",
      "Extracting MNIST_data/t10k-images-idx3-ubyte.gz\n",
      "Extracting MNIST_data/t10k-labels-idx1-ubyte.gz\n"
     ]
    }
   ],
   "source": [
    "import numpy as np\n",
    "import tensorflow as tf\n",
    "import matplotlib.pyplot as plt\n",
    "\n",
    "#Import mnist data, which comes with tensor flow\n",
    "#from tensorflow.examples.tutorials.mnist import input_data\n",
    "#mnist = input_data.read_data_sets('MNIST_data', one_hot=True)"
   ]
  },
  {
   "cell_type": "markdown",
   "metadata": {},
   "source": [
    "Components of MNIST\n",
    "- mnist.train\n",
    "- mnist.test\n",
    "- mnist.validation\n",
    "Each with images and labels"
   ]
  },
  {
   "cell_type": "code",
   "execution_count": 4,
   "metadata": {},
   "outputs": [
    {
     "data": {
      "text/plain": [
       "array([[0., 0., 0., ..., 1., 0., 0.],\n",
       "       [0., 0., 0., ..., 0., 0., 0.],\n",
       "       [0., 0., 0., ..., 0., 0., 0.],\n",
       "       ...,\n",
       "       [0., 0., 0., ..., 0., 0., 0.],\n",
       "       [0., 0., 0., ..., 0., 0., 0.],\n",
       "       [0., 0., 0., ..., 0., 1., 0.]])"
      ]
     },
     "execution_count": 4,
     "metadata": {},
     "output_type": "execute_result"
    }
   ],
   "source": [
    "mnist.train.labels"
   ]
  },
  {
   "cell_type": "code",
   "execution_count": 5,
   "metadata": {},
   "outputs": [
    {
     "data": {
      "text/plain": [
       "(55000, 10)"
      ]
     },
     "execution_count": 5,
     "metadata": {},
     "output_type": "execute_result"
    }
   ],
   "source": [
    "mnist.train.labels.shape"
   ]
  },
  {
   "cell_type": "code",
   "execution_count": 20,
   "metadata": {},
   "outputs": [
    {
     "data": {
      "text/plain": [
       "array([0., 0., 0., 0., 0., 0., 1., 0., 0., 0.])"
      ]
     },
     "execution_count": 20,
     "metadata": {},
     "output_type": "execute_result"
    }
   ],
   "source": [
    "#This is a six\n",
    "mnist.train.labels[600]"
   ]
  },
  {
   "cell_type": "code",
   "execution_count": 19,
   "metadata": {},
   "outputs": [
    {
     "data": {
      "text/plain": [
       "<matplotlib.image.AxesImage at 0x1296edef0>"
      ]
     },
     "execution_count": 19,
     "metadata": {},
     "output_type": "execute_result"
    },
    {
     "data": {
      "image/png": "[encoded data removed]",
      "text/plain": [
       "<Figure size 288x288 with 1 Axes>"
      ]
     },
     "metadata": {},
     "output_type": "display_data"
    }
   ],
   "source": [
    "#this is the first image\n",
    "plt.matshow(mnist.train.images[600].reshape((28,-1)))"
   ]
  },
  {
   "cell_type": "code",
   "execution_count": 24,
   "metadata": {},
   "outputs": [],
   "source": [
    "# Function to make weight and bias variables\n",
    "# Number of weight variables: 784*number of nodes in next layer\n",
    "# Number of bias (i.e. offset/intercept) variables: number of nodes in next layer\n",
    "\n",
    "def weight_variable(shape):\n",
    "    '''For matrix multiplication in fully-connected layers, weight variable shape is: input size * output size.'''\n",
    "    #Normally distributed variables clamped between 0-1 with stddev as given\n",
    "    initial = tf.truncated_normal(shape, stddev=0.1)\n",
    "    #Return variable node\n",
    "    return tf.Variable(initial)\n",
    "\n",
    "def bias_variable(shape):\n",
    "    ''' Bias variable shape is number of loads in next layer. '''\n",
    "    #Slightly positive so we preserve more gradients for RELU non-linearity \n",
    "    initial = tf.constant(0.1, shape = shape)\n",
    "    return tf.Variable(initial)"
   ]
  },
  {
   "cell_type": "code",
   "execution_count": 53,
   "metadata": {},
   "outputs": [],
   "source": [
    "#input placeholder - 28x28 represented as a 784-length vector\n",
    "input_ph = tf.placeholder(tf.float32, shape=[None,28*28], name = 'input_ph')\n",
    "#output placeholder - a 10-length vector containing logits\n",
    "output_ph = tf.placeholder(tf.float32, shape=[None,10], name = 'output_ph')\n",
    "\n",
    "#flow stores current node as we process through the layers\n",
    "#Starts by pointing to placeholder node for input\n",
    "flow = input_ph\n",
    "\n",
    "#Make some layers\n",
    "def make_layer(n):\n",
    "    global flow\n",
    "    #Use the shape of the previous layer to make the weight variable for the next\n",
    "    w1 = weight_variable((int(flow.shape[-1]), n))\n",
    "    b1 = bias_variable((n,))\n",
    "    #right-multiply by the weight\n",
    "    #flow points to computational node\n",
    "    flow = tf.matmul(flow,w1)+b1\n",
    "    \n",
    "def make_nonlinearity():\n",
    "    '''rectified linear'''\n",
    "    global flow\n",
    "    #updates computational node held by flow\n",
    "    flow = tf.nn.relu(flow)\n",
    "    \n",
    "#Intersperse nonlinearity between the affine layers\n",
    "#Layer 1 - 100 nodes\n",
    "make_layer(100)\n",
    "make_nonlinearity()\n",
    "#Layer 2 - 50 nodes\n",
    "make_layer(50)\n",
    "make_nonlinearity()\n",
    "#Layer 3 (output) - 10 nodes\n",
    "make_layer(10)\n",
    "\n",
    "network_output = flow\n",
    "\n",
    "#Make loss computational node (returns loss as a number)\n",
    "loss = tf.reduce_mean((output_ph - network_output)**2)\n",
    "\n",
    "#Gradient descent with 'GradientDescentOptimizer'\n",
    "learning_rate = 0.1\n",
    "#make training step computational node (has only side effects; returns none)\n",
    "train_step = tf.train.GradientDescentOptimizer(learning_rate).minimize(loss)\n",
    "\n",
    "#Make a new session\n",
    "sess = tf.Session()\n",
    "sess.run(tf.global_variables_initializer())"
   ]
  },
  {
   "cell_type": "code",
   "execution_count": 54,
   "metadata": {},
   "outputs": [],
   "source": [
    "loss_list = []"
   ]
  },
  {
   "cell_type": "code",
   "execution_count": 67,
   "metadata": {},
   "outputs": [
    {
     "data": {
      "text/plain": [
       "[<matplotlib.lines.Line2D at 0x12a170eb8>]"
      ]
     },
     "execution_count": 67,
     "metadata": {},
     "output_type": "execute_result"
    },
    {
     "data": {
      "image/png": "[encoded data removed]",
      "text/plain": [
       "<Figure size 432x288 with 1 Axes>"
      ]
     },
     "metadata": {},
     "output_type": "display_data"
    }
   ],
   "source": [
    "feed_dict={\n",
    "    input_ph: mnist.train.images,\n",
    "    output_ph: mnist.train.labels,\n",
    "}\n",
    "\n",
    "for i in range(3):\n",
    "    loss_list.append(sess.run(loss, feed_dict=feed_dict))\n",
    "    sess.run(train_step, feed_dict=feed_dict)\n",
    "    \n",
    "plt.plot(loss_list)"
   ]
  },
  {
   "cell_type": "code",
   "execution_count": 70,
   "metadata": {},
   "outputs": [],
   "source": [
    "model_output = sess.run(network_output, feed_dict={\n",
    "    input_ph:mnist.train.images[0:10],\n",
    "})"
   ]
  },
  {
   "cell_type": "code",
   "execution_count": 72,
   "metadata": {},
   "outputs": [
    {
     "data": {
      "text/plain": [
       "array([-0.18932825,  0.13026801,  0.2668326 , -0.27009872,  0.29890332,\n",
       "        0.0869771 ,  0.4122665 ,  0.04909744,  0.2558691 ,  0.33011308],\n",
       "      dtype=float32)"
      ]
     },
     "execution_count": 72,
     "metadata": {},
     "output_type": "execute_result"
    }
   ],
   "source": [
    "model_output[0]"
   ]
  },
  {
   "cell_type": "code",
   "execution_count": 84,
   "metadata": {},
   "outputs": [
    {
     "data": {
      "text/plain": [
       "<matplotlib.image.AxesImage at 0x11b32db38>"
      ]
     },
     "execution_count": 84,
     "metadata": {},
     "output_type": "execute_result"
    },
    {
     "data": {
      "image/png": "[encoded data removed]",
      "text/plain": [
       "<Figure size 288x288 with 1 Axes>"
      ]
     },
     "metadata": {},
     "output_type": "display_data"
    },
    {
     "data": {
      "image/png": "[encoded data removed]",
      "text/plain": [
       "<Figure size 288x288 with 1 Axes>"
      ]
     },
     "metadata": {},
     "output_type": "display_data"
    }
   ],
   "source": [
    "plt.matshow(model_output)\n",
    "plt.matshow(mnist.train.labels[0:10])"
   ]
  }
 ],
 "metadata": {
  "kernelspec": {
   "display_name": "Python 3",
   "language": "python",
   "name": "python3"
  },
  "language_info": {
   "codemirror_mode": {
    "name": "ipython",
    "version": 3
   },
   "file_extension": ".py",
   "mimetype": "text/x-python",
   "name": "python",
   "nbconvert_exporter": "python",
   "pygments_lexer": "ipython3",
   "version": "3.6.4"
  }
 },
 "nbformat": 4,
 "nbformat_minor": 2
}
