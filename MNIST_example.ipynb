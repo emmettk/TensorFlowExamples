{
 "cells": [
  {
   "cell_type": "markdown",
   "metadata": {},
   "source": [
    "# MNIST Tensor flow example\n",
    "E. Krupczak - 18 Aug 2018"
   ]
  },
  {
   "cell_type": "code",
   "execution_count": 16,
   "metadata": {},
   "outputs": [
    {
     "name": "stdout",
     "output_type": "stream",
     "text": [
      "Extracting MNIST_data/train-images-idx3-ubyte.gz\n",
      "Extracting MNIST_data/train-labels-idx1-ubyte.gz\n",
      "Extracting MNIST_data/t10k-images-idx3-ubyte.gz\n",
      "Extracting MNIST_data/t10k-labels-idx1-ubyte.gz\n"
     ]
    }
   ],
   "source": [
    "import numpy as np\n",
    "import tensorflow as tf\n",
    "import matplotlib.pyplot as plt\n",
    "import random\n",
    "\n",
    "#Import mnist data, which comes with tensor flow\n",
    "from tensorflow.examples.tutorials.mnist import input_data\n",
    "mnist = input_data.read_data_sets('MNIST_data', one_hot=True)"
   ]
  },
  {
   "cell_type": "markdown",
   "metadata": {},
   "source": [
    "Components of MNIST\n",
    "- mnist.train\n",
    "- mnist.test\n",
    "- mnist.validation\n",
    "Each with images and labels"
   ]
  },
  {
   "cell_type": "code",
   "execution_count": null,
   "metadata": {},
   "outputs": [],
   "source": [
    "mnist.train.labels"
   ]
  },
  {
   "cell_type": "code",
   "execution_count": null,
   "metadata": {},
   "outputs": [],
   "source": [
    "mnist.train.labels.shape"
   ]
  },
  {
   "cell_type": "code",
   "execution_count": null,
   "metadata": {},
   "outputs": [],
   "source": [
    "#This is a six\n",
    "mnist.train.labels[600]"
   ]
  },
  {
   "cell_type": "code",
   "execution_count": null,
   "metadata": {},
   "outputs": [],
   "source": [
    "#this is the first image\n",
    "plt.matshow(mnist.train.images[600].reshape((28,-1)))"
   ]
  },
  {
   "cell_type": "code",
   "execution_count": 17,
   "metadata": {},
   "outputs": [],
   "source": [
    "# Function to make weight and bias variables\n",
    "# Number of weight variables: 784*number of nodes in next layer\n",
    "# Number of bias (i.e. offset/intercept) variables: number of nodes in next layer\n",
    "\n",
    "def weight_variable(shape):\n",
    "    '''For matrix multiplication in fully-connected layers, weight variable shape is: input size * output size.'''\n",
    "    #Normally distributed variables clamped between 0-1 with stddev as given\n",
    "    initial = tf.truncated_normal(shape, stddev=0.1)\n",
    "    #Return variable node\n",
    "    return tf.Variable(initial)\n",
    "\n",
    "def bias_variable(shape):\n",
    "    ''' Bias variable shape is number of loads in next layer. '''\n",
    "    #Slightly positive so we preserve more gradients for RELU non-linearity \n",
    "    initial = tf.constant(0.1, shape = shape)\n",
    "    return tf.Variable(initial)"
   ]
  },
  {
   "cell_type": "code",
   "execution_count": 18,
   "metadata": {},
   "outputs": [],
   "source": [
    "#input placeholder - 28x28 represented as a 784-length vector\n",
    "input_ph = tf.placeholder(tf.float32, shape=[None,28*28], name = 'input_ph')\n",
    "#output placeholder - a 10-length vector containing logits\n",
    "output_ph = tf.placeholder(tf.float32, shape=[None,10], name = 'output_ph')\n",
    "\n",
    "#flow stores current node as we process through the layers\n",
    "#Starts by pointing to placeholder node for input\n",
    "flow = input_ph\n",
    "\n",
    "#Make some layers\n",
    "def make_layer(n):\n",
    "    global flow\n",
    "    #Use the shape of the previous layer to make the weight variable for the next\n",
    "    w1 = weight_variable((int(flow.shape[-1]), n))\n",
    "    b1 = bias_variable((n,))\n",
    "    #right-multiply by the weight\n",
    "    #flow points to computational node\n",
    "    flow = tf.matmul(flow,w1)+b1\n",
    "    \n",
    "def make_nonlinearity():\n",
    "    '''rectified linear'''\n",
    "    global flow\n",
    "    #updates computational node held by flow\n",
    "    flow = tf.nn.relu(flow)\n",
    "    \n",
    "#Intersperse nonlinearity between the affine layers\n",
    "make_layer(30)\n",
    "make_nonlinearity()\n",
    "make_layer(30)\n",
    "make_nonlinearity()\n",
    "make_layer(30)\n",
    "make_nonlinearity()\n",
    "make_layer(30)\n",
    "make_nonlinearity()\n",
    "make_layer(30)\n",
    "make_nonlinearity()\n",
    "make_layer(10)\n",
    "\n",
    "network_output = flow\n",
    "\n",
    "#Make loss computational node (returns loss as a number)\n",
    "##Simplest loss function (squared error)\n",
    "#loss = tf.reduce_mean((output_ph - network_output)**2)\n",
    "##Cross-entropy loss\n",
    "loss = tf.reduce_mean(tf.nn.softmax_cross_entropy_with_logits_v2(\n",
    "    labels=output_ph, \n",
    "    logits=network_output, #unnormalized log probabilities of label classes\n",
    "))\n",
    "\n",
    "##Accuracy nodes\n",
    "accuracy = tf.reduce_mean(tf.cast(\n",
    "    tf.equal(tf.argmax(network_output,1), tf.argmax(output_ph,1)),\n",
    "    tf.float32,\n",
    "))\n",
    "\n",
    "#Gradient descent with 'GradientDescentOptimizer'\n",
    "learning_rate = 0.1\n",
    "#make training step computational node (has only side effects; returns none)\n",
    "train_step = tf.train.GradientDescentOptimizer(learning_rate).minimize(loss)\n",
    "\n",
    "#Make a new session\n",
    "sess = tf.Session()\n",
    "sess.run(tf.global_variables_initializer())"
   ]
  },
  {
   "cell_type": "code",
   "execution_count": 19,
   "metadata": {},
   "outputs": [],
   "source": [
    "val_loss_list = []\n",
    "in_sample_loss_list = []\n",
    "accuracy_list = []"
   ]
  },
  {
   "cell_type": "code",
   "execution_count": 22,
   "metadata": {},
   "outputs": [
    {
     "name": "stdout",
     "output_type": "stream",
     "text": [
      "Step: 4100  Validation: 0.16821565 In-sample: 0.16576283 Acc: 0.9518\n",
      "Step: 4200  Validation: 0.17309786 In-sample: 0.17512482 Acc: 0.9512\n",
      "Step: 4300  Validation: 0.16471261 In-sample: 0.15720746 Acc: 0.9526\n",
      "Step: 4400  Validation: 0.1956128 In-sample: 0.18387423 Acc: 0.947\n",
      "Step: 4500  Validation: 0.15929052 In-sample: 0.15571646 Acc: 0.9546\n",
      "Step: 4600  Validation: 0.15139584 In-sample: 0.14105871 Acc: 0.9568\n",
      "Step: 4700  Validation: 0.15673189 In-sample: 0.14543793 Acc: 0.955\n",
      "Step: 4800  Validation: 0.14799854 In-sample: 0.14051507 Acc: 0.9546\n",
      "Step: 4900  Validation: 0.1478278 In-sample: 0.13806096 Acc: 0.9564\n",
      "Step: 5000  Validation: 0.15129599 In-sample: 0.14062999 Acc: 0.9562\n",
      "Step: 5100  Validation: 0.17414813 In-sample: 0.15791932 Acc: 0.951\n",
      "Step: 5200  Validation: 0.154398 In-sample: 0.14540254 Acc: 0.9564\n",
      "Step: 5300  Validation: 0.15140784 In-sample: 0.1368665 Acc: 0.9592\n",
      "Step: 5400  Validation: 0.1425239 In-sample: 0.1290418 Acc: 0.9598\n",
      "Step: 5500  Validation: 0.14536074 In-sample: 0.1340595 Acc: 0.9592\n",
      "Step: 5600  Validation: 0.16546169 In-sample: 0.15621012 Acc: 0.9538\n",
      "Step: 5700  Validation: 0.14212543 In-sample: 0.12916467 Acc: 0.9602\n",
      "Step: 5800  Validation: 0.14599085 In-sample: 0.13498095 Acc: 0.9574\n",
      "Step: 5900  Validation: 0.17035532 In-sample: 0.14933953 Acc: 0.9532\n",
      "Step: 6000  Validation: 0.16280945 In-sample: 0.13914494 Acc: 0.953\n",
      "Step: 6100  Validation: 0.17778997 In-sample: 0.16059585 Acc: 0.949\n",
      "Step: 6200  Validation: 0.13816947 In-sample: 0.124883026 Acc: 0.9602\n",
      "Step: 6300  Validation: 0.14280747 In-sample: 0.118638806 Acc: 0.9596\n",
      "Step: 6400  Validation: 0.14636646 In-sample: 0.12992296 Acc: 0.96\n",
      "Step: 6500  Validation: 0.1385239 In-sample: 0.121303335 Acc: 0.9604\n",
      "Step: 6600  Validation: 0.1392862 In-sample: 0.121644594 Acc: 0.9596\n",
      "Step: 6700  Validation: 0.13724142 In-sample: 0.117561504 Acc: 0.9586\n",
      "Step: 6800  Validation: 0.14877068 In-sample: 0.12537579 Acc: 0.9564\n",
      "Step: 6900  Validation: 0.15419258 In-sample: 0.13365681 Acc: 0.9546\n",
      "Step: 7000  Validation: 0.14101404 In-sample: 0.12280979 Acc: 0.9574\n",
      "Step: 7100  Validation: 0.14474648 In-sample: 0.13099535 Acc: 0.96\n",
      "Step: 7200  Validation: 0.14536163 In-sample: 0.1318881 Acc: 0.9556\n",
      "Step: 7300  Validation: 0.14404273 In-sample: 0.12588194 Acc: 0.9596\n",
      "Step: 7400  Validation: 0.19399069 In-sample: 0.17606227 Acc: 0.9422\n",
      "Step: 7500  Validation: 0.1429406 In-sample: 0.12886949 Acc: 0.9594\n",
      "Step: 7600  Validation: 0.14526525 In-sample: 0.12592053 Acc: 0.9586\n",
      "Step: 7700  Validation: 0.14065693 In-sample: 0.11617793 Acc: 0.9598\n",
      "Step: 7800  Validation: 0.14706774 In-sample: 0.1158589 Acc: 0.9564\n",
      "Step: 7900  Validation: 0.1539317 In-sample: 0.123150185 Acc: 0.957\n",
      "Step: 8000  Validation: 0.13044249 In-sample: 0.10531763 Acc: 0.9618\n"
     ]
    }
   ],
   "source": [
    "#Train the model\n",
    "minibatchsize = 32\n",
    "for i in range(40):\n",
    "    #Compute loss and accuracy across validation set\n",
    "    val_acc, val_loss = sess.run([accuracy,loss], feed_dict={\n",
    "        input_ph: mnist.validation.images,\n",
    "        output_ph: mnist.validation.labels,\n",
    "    })\n",
    "    #Compute loss in sample\n",
    "    in_sample_loss = sess.run(loss, feed_dict={\n",
    "        input_ph: mnist.train.images,\n",
    "        output_ph: mnist.train.labels,\n",
    "    })\n",
    "    \n",
    "    accuracy_list.append(val_acc)\n",
    "    val_loss_list.append(val_loss)\n",
    "    in_sample_loss_list.append(in_sample_loss)\n",
    "    \n",
    "    for j in range(100):\n",
    "        minibatch_indices = random.sample(range(len(mnist.train.labels)),minibatchsize)\n",
    "        sess.run(train_step, feed_dict={\n",
    "            input_ph: [mnist.train.images[i] for i in minibatch_indices],\n",
    "            output_ph: [mnist.train.labels[i] for i in minibatch_indices],\n",
    "        })\n",
    "    print('Step:', len(val_loss_list)*100, ' Validation:', val_loss, 'In-sample:', in_sample_loss, 'Acc:', val_acc)"
   ]
  },
  {
   "cell_type": "code",
   "execution_count": 15,
   "metadata": {},
   "outputs": [
    {
     "data": {
      "text/plain": [
       "<matplotlib.legend.Legend at 0x119f30c18>"
      ]
     },
     "execution_count": 15,
     "metadata": {},
     "output_type": "execute_result"
    },
    {
     "data": {
      "image/png": "[encoded data removed]",
      "text/plain": [
       "<Figure size 432x288 with 1 Axes>"
      ]
     },
     "metadata": {},
     "output_type": "display_data"
    }
   ],
   "source": [
    "plt.plot(val_loss_list[10:])\n",
    "plt.plot(in_sample_loss_list[10:])\n",
    "plt.legend(['validation', 'in-sample'])"
   ]
  },
  {
   "cell_type": "markdown",
   "metadata": {},
   "source": [
    "We can see that the validation loss starts to go up as the model overfits to the in-sample data set."
   ]
  },
  {
   "cell_type": "code",
   "execution_count": 23,
   "metadata": {},
   "outputs": [
    {
     "data": {
      "text/plain": [
       "<matplotlib.legend.Legend at 0x1040baa20>"
      ]
     },
     "execution_count": 23,
     "metadata": {},
     "output_type": "execute_result"
    },
    {
     "data": {
      "image/png": "[encoded data removed]",
      "text/plain": [
       "<Figure size 432x288 with 1 Axes>"
      ]
     },
     "metadata": {},
     "output_type": "display_data"
    }
   ],
   "source": [
    "plt.plot(val_loss_list[10:])\n",
    "plt.plot(in_sample_loss_list[10:])\n",
    "plt.legend(['validation', 'in-sample'])"
   ]
  },
  {
   "cell_type": "markdown",
   "metadata": {},
   "source": [
    "More smaller layers reduces the overfitting."
   ]
  },
  {
   "cell_type": "code",
   "execution_count": null,
   "metadata": {},
   "outputs": [],
   "source": [
    "#Run the model on the test images\n",
    "model_output = sess.run(network_output, feed_dict={\n",
    "    input_ph:mnist.test.images[0:10],\n",
    "})"
   ]
  },
  {
   "cell_type": "code",
   "execution_count": null,
   "metadata": {},
   "outputs": [],
   "source": [
    "model_output[0]"
   ]
  },
  {
   "cell_type": "code",
   "execution_count": null,
   "metadata": {},
   "outputs": [],
   "source": [
    "def softmax(x):\n",
    "    x = np.exp(x)\n",
    "    return x/x.sum()"
   ]
  },
  {
   "cell_type": "code",
   "execution_count": null,
   "metadata": {},
   "outputs": [],
   "source": [
    "f, (ax1, ax2) = plt.subplots(1, 2, sharey=True)\n",
    "ax1.matshow([softmax(x) for x in model_output])\n",
    "ax2.matshow(mnist.test.labels[0:10])"
   ]
  },
  {
   "cell_type": "code",
   "execution_count": null,
   "metadata": {},
   "outputs": [],
   "source": [
    "plt.matshow(mnist.test.images[8].reshape((28,28)))"
   ]
  }
 ],
 "metadata": {
  "kernelspec": {
   "display_name": "Python 3",
   "language": "python",
   "name": "python3"
  },
  "language_info": {
   "codemirror_mode": {
    "name": "ipython",
    "version": 3
   },
   "file_extension": ".py",
   "mimetype": "text/x-python",
   "name": "python",
   "nbconvert_exporter": "python",
   "pygments_lexer": "ipython3",
   "version": "3.6.4"
  }
 },
 "nbformat": 4,
 "nbformat_minor": 2
}
