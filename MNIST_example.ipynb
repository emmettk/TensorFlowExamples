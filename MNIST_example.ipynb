{
 "cells": [
  {
   "cell_type": "markdown",
   "metadata": {},
   "source": [
    "# MNIST Tensor flow example\n",
    "E. Krupczak - 18 Aug 2018"
   ]
  },
  {
   "cell_type": "code",
   "execution_count": 16,
   "metadata": {},
   "outputs": [
    {
     "name": "stdout",
     "output_type": "stream",
     "text": [
      "Extracting MNIST_data/train-images-idx3-ubyte.gz\n",
      "Extracting MNIST_data/train-labels-idx1-ubyte.gz\n",
      "Extracting MNIST_data/t10k-images-idx3-ubyte.gz\n",
      "Extracting MNIST_data/t10k-labels-idx1-ubyte.gz\n"
     ]
    }
   ],
   "source": [
    "import numpy as np\n",
    "import tensorflow as tf\n",
    "import matplotlib.pyplot as plt\n",
    "import random\n",
    "\n",
    "#Import mnist data, which comes with tensor flow\n",
    "from tensorflow.examples.tutorials.mnist import input_data\n",
    "mnist = input_data.read_data_sets('MNIST_data', one_hot=True)"
   ]
  },
  {
   "cell_type": "markdown",
   "metadata": {},
   "source": [
    "Components of MNIST\n",
    "- mnist.train\n",
    "- mnist.test\n",
    "- mnist.validation\n",
    "Each with images and labels"
   ]
  },
  {
   "cell_type": "code",
   "execution_count": null,
   "metadata": {},
   "outputs": [],
   "source": [
    "mnist.train.labels"
   ]
  },
  {
   "cell_type": "code",
   "execution_count": null,
   "metadata": {},
   "outputs": [],
   "source": [
    "mnist.train.labels.shape"
   ]
  },
  {
   "cell_type": "code",
   "execution_count": null,
   "metadata": {},
   "outputs": [],
   "source": [
    "#This is a six\n",
    "mnist.train.labels[600]"
   ]
  },
  {
   "cell_type": "code",
   "execution_count": null,
   "metadata": {},
   "outputs": [],
   "source": [
    "#this is the first image\n",
    "plt.matshow(mnist.train.images[600].reshape((28,-1)))"
   ]
  },
  {
   "cell_type": "code",
   "execution_count": 17,
   "metadata": {},
   "outputs": [],
   "source": [
    "# Function to make weight and bias variables\n",
    "# Number of weight variables: 784*number of nodes in next layer\n",
    "# Number of bias (i.e. offset/intercept) variables: number of nodes in next layer\n",
    "\n",
    "def weight_variable(shape):\n",
    "    '''For matrix multiplication in fully-connected layers, weight variable shape is: input size * output size.'''\n",
    "    #Normally distributed variables clamped between 0-1 with stddev as given\n",
    "    initial = tf.truncated_normal(shape, stddev=0.1)\n",
    "    #Return variable node\n",
    "    return tf.Variable(initial)\n",
    "\n",
    "def bias_variable(shape):\n",
    "    ''' Bias variable shape is number of loads in next layer. '''\n",
    "    #Slightly positive so we preserve more gradients for RELU non-linearity \n",
    "    initial = tf.constant(0.1, shape=shape)\n",
    "    return tf.Variable(initial)"
   ]
  },
  {
   "cell_type": "code",
   "execution_count": 24,
   "metadata": {},
   "outputs": [],
   "source": [
    "#input placeholder - 28x28 represented as a 784-length vector\n",
    "input_ph = tf.placeholder(tf.float32, shape=[None,28*28], name='input_ph')\n",
    "#output placeholder - a 10-length vector containing logits\n",
    "output_ph = tf.placeholder(tf.float32, shape=[None,10], name='output_ph')\n",
    "#learning rate \n",
    "learning_rate_ph = tf.placeholder(tf.float32, shape=[], name='learning_rate_ph')\n",
    "\n",
    "#flow stores current node as we process through the layers\n",
    "#Starts by pointing to placeholder node for input\n",
    "flow = input_ph\n",
    "\n",
    "#Make some layers\n",
    "def make_layer(n):\n",
    "    global flow\n",
    "    #Use the shape of the previous layer to make the weight variable for the next\n",
    "    w1 = weight_variable((int(flow.shape[-1]), n))\n",
    "    b1 = bias_variable((n,))\n",
    "    #right-multiply by the weight\n",
    "    #flow points to computational node\n",
    "    flow = tf.matmul(flow,w1)+b1\n",
    "    \n",
    "def make_nonlinearity():\n",
    "    '''rectified linear'''\n",
    "    global flow\n",
    "    #updates computational node held by flow\n",
    "    flow = tf.nn.relu(flow)\n",
    "    \n",
    "#Intersperse nonlinearity between the affine layers\n",
    "make_layer(30)\n",
    "make_nonlinearity()\n",
    "make_layer(30)\n",
    "make_nonlinearity()\n",
    "make_layer(30)\n",
    "make_nonlinearity()\n",
    "make_layer(30)\n",
    "make_nonlinearity()\n",
    "make_layer(30)\n",
    "make_nonlinearity()\n",
    "make_layer(10)\n",
    "\n",
    "network_output = flow\n",
    "\n",
    "#Make loss computational node (returns loss as a number)\n",
    "##Simplest loss function (squared error)\n",
    "#loss = tf.reduce_mean((output_ph - network_output)**2)\n",
    "##Cross-entropy loss\n",
    "loss = tf.reduce_mean(tf.nn.softmax_cross_entropy_with_logits_v2(\n",
    "    labels=output_ph, \n",
    "    logits=network_output, #unnormalized log probabilities of label classes\n",
    "))\n",
    "\n",
    "##Accuracy nodes\n",
    "accuracy = tf.reduce_mean(tf.cast(\n",
    "    tf.equal(tf.argmax(network_output,1), tf.argmax(output_ph,1)),\n",
    "    tf.float32,\n",
    "))\n",
    "\n",
    "#Gradient descent with 'GradientDescentOptimizer'\n",
    "#learning_rate = 0.1\n",
    "#make training step computational node (has only side effects; returns none)\n",
    "train_step = tf.train.GradientDescentOptimizer(learning_rate_ph).minimize(loss)\n",
    "\n",
    "#Make a new session\n",
    "sess = tf.Session()\n",
    "sess.run(tf.global_variables_initializer())"
   ]
  },
  {
   "cell_type": "code",
   "execution_count": 25,
   "metadata": {},
   "outputs": [],
   "source": [
    "val_loss_list = []\n",
    "in_sample_loss_list = []\n",
    "accuracy_list = []"
   ]
  },
  {
   "cell_type": "code",
   "execution_count": 32,
   "metadata": {},
   "outputs": [
    {
     "name": "stdout",
     "output_type": "stream",
     "text": [
      "Step: 12100  Validation: 0.12036267 In-sample: 0.09355576 Acc: 0.9644\n",
      "Step: 12200  Validation: 0.118699975 In-sample: 0.08245947 Acc: 0.9668\n",
      "Step: 12300  Validation: 0.115114674 In-sample: 0.0782867 Acc: 0.9688\n",
      "Step: 12400  Validation: 0.11309329 In-sample: 0.07643903 Acc: 0.9698\n",
      "Step: 12500  Validation: 0.115030736 In-sample: 0.07881415 Acc: 0.966\n",
      "Step: 12600  Validation: 0.11107295 In-sample: 0.07622841 Acc: 0.968\n",
      "Step: 12700  Validation: 0.1122431 In-sample: 0.07851312 Acc: 0.9682\n",
      "Step: 12800  Validation: 0.11002777 In-sample: 0.073440075 Acc: 0.9694\n",
      "Step: 12900  Validation: 0.11272746 In-sample: 0.07392606 Acc: 0.9684\n",
      "Step: 13000  Validation: 0.111306675 In-sample: 0.07327555 Acc: 0.9692\n",
      "Step: 13100  Validation: 0.112780884 In-sample: 0.071959734 Acc: 0.9712\n",
      "Step: 13200  Validation: 0.11312629 In-sample: 0.07126245 Acc: 0.97\n",
      "Step: 13300  Validation: 0.110498525 In-sample: 0.071319014 Acc: 0.9706\n",
      "Step: 13400  Validation: 0.110983066 In-sample: 0.06982645 Acc: 0.9698\n",
      "Step: 13500  Validation: 0.11250298 In-sample: 0.070929036 Acc: 0.9686\n",
      "Step: 13600  Validation: 0.11100149 In-sample: 0.069609754 Acc: 0.9696\n",
      "Step: 13700  Validation: 0.112495236 In-sample: 0.068183884 Acc: 0.9704\n",
      "Step: 13800  Validation: 0.11522837 In-sample: 0.070816435 Acc: 0.9672\n",
      "Step: 13900  Validation: 0.112466134 In-sample: 0.06901866 Acc: 0.9684\n",
      "Step: 14000  Validation: 0.11262217 In-sample: 0.06760559 Acc: 0.97\n",
      "Step: 14100  Validation: 0.11305046 In-sample: 0.066339105 Acc: 0.9702\n",
      "Step: 14200  Validation: 0.111786656 In-sample: 0.066484235 Acc: 0.9698\n",
      "Step: 14300  Validation: 0.12066454 In-sample: 0.07137805 Acc: 0.9682\n",
      "Step: 14400  Validation: 0.11099224 In-sample: 0.066452846 Acc: 0.9704\n",
      "Step: 14500  Validation: 0.112962425 In-sample: 0.06684037 Acc: 0.9702\n",
      "Step: 14600  Validation: 0.111423746 In-sample: 0.06603165 Acc: 0.9702\n",
      "Step: 14700  Validation: 0.11344286 In-sample: 0.06562009 Acc: 0.97\n",
      "Step: 14800  Validation: 0.11232334 In-sample: 0.0669964 Acc: 0.97\n",
      "Step: 14900  Validation: 0.1145985 In-sample: 0.06961554 Acc: 0.9704\n",
      "Step: 15000  Validation: 0.11081023 In-sample: 0.065226525 Acc: 0.971\n",
      "Step: 15100  Validation: 0.11021128 In-sample: 0.06548278 Acc: 0.9694\n",
      "Step: 15200  Validation: 0.109740995 In-sample: 0.063737884 Acc: 0.9704\n",
      "Step: 15300  Validation: 0.11086615 In-sample: 0.06650543 Acc: 0.969\n",
      "Step: 15400  Validation: 0.1117438 In-sample: 0.066445306 Acc: 0.969\n",
      "Step: 15500  Validation: 0.110700466 In-sample: 0.06558049 Acc: 0.9702\n",
      "Step: 15600  Validation: 0.10903776 In-sample: 0.06355302 Acc: 0.969\n",
      "Step: 15700  Validation: 0.11071479 In-sample: 0.063188426 Acc: 0.9702\n",
      "Step: 15800  Validation: 0.11069814 In-sample: 0.063373365 Acc: 0.9702\n",
      "Step: 15900  Validation: 0.11006398 In-sample: 0.062613785 Acc: 0.969\n",
      "Step: 16000  Validation: 0.11308191 In-sample: 0.062146857 Acc: 0.97\n"
     ]
    }
   ],
   "source": [
    "#Train the model\n",
    "minibatchsize = 32\n",
    "for i in range(40):\n",
    "    #Compute loss and accuracy across validation set\n",
    "    val_acc, val_loss = sess.run([accuracy,loss], feed_dict={\n",
    "        input_ph: mnist.validation.images,\n",
    "        output_ph: mnist.validation.labels,\n",
    "    })\n",
    "    #Compute loss in sample\n",
    "    in_sample_loss = sess.run(loss, feed_dict={\n",
    "        input_ph: mnist.train.images,\n",
    "        output_ph: mnist.train.labels,\n",
    "    })\n",
    "    \n",
    "    accuracy_list.append(val_acc)\n",
    "    val_loss_list.append(val_loss)\n",
    "    in_sample_loss_list.append(in_sample_loss)\n",
    "    \n",
    "    for j in range(100):\n",
    "        minibatch_indices = random.sample(range(len(mnist.train.labels)),minibatchsize)\n",
    "        sess.run(train_step, feed_dict={\n",
    "            input_ph: [mnist.train.images[i] for i in minibatch_indices],\n",
    "            output_ph: [mnist.train.labels[i] for i in minibatch_indices],\n",
    "            learning_rate_ph:learning_rate,\n",
    "        })\n",
    "    print('Step:', len(val_loss_list)*100, ' Validation:', val_loss, 'In-sample:', in_sample_loss, 'Acc:', val_acc)"
   ]
  },
  {
   "cell_type": "code",
   "execution_count": 29,
   "metadata": {},
   "outputs": [
    {
     "data": {
      "text/plain": [
       "<matplotlib.legend.Legend at 0x11ae42cf8>"
      ]
     },
     "execution_count": 29,
     "metadata": {},
     "output_type": "execute_result"
    },
    {
     "data": {
      "image/png": "[encoded data removed]",
      "text/plain": [
       "<Figure size 432x288 with 1 Axes>"
      ]
     },
     "metadata": {},
     "output_type": "display_data"
    }
   ],
   "source": [
    "plt.plot(val_loss_list[10:])\n",
    "plt.plot(in_sample_loss_list[10:])\n",
    "plt.legend(['validation', 'in-sample'])"
   ]
  },
  {
   "cell_type": "code",
   "execution_count": 31,
   "metadata": {},
   "outputs": [],
   "source": [
    "learning_rate = 0.02 #update learning rate"
   ]
  },
  {
   "cell_type": "markdown",
   "metadata": {},
   "source": [
    "We can see that the validation loss starts to go up as the model overfits to the in-sample data set."
   ]
  },
  {
   "cell_type": "code",
   "execution_count": 33,
   "metadata": {},
   "outputs": [
    {
     "data": {
      "text/plain": [
       "<matplotlib.legend.Legend at 0x11aebb6d8>"
      ]
     },
     "execution_count": 33,
     "metadata": {},
     "output_type": "execute_result"
    },
    {
     "data": {
      "image/png": "[encoded data removed]",
      "text/plain": [
       "<Figure size 432x288 with 1 Axes>"
      ]
     },
     "metadata": {},
     "output_type": "display_data"
    }
   ],
   "source": [
    "plt.plot(val_loss_list[10:])\n",
    "plt.plot(in_sample_loss_list[10:])\n",
    "plt.legend(['validation', 'in-sample'])"
   ]
  },
  {
   "cell_type": "markdown",
   "metadata": {},
   "source": [
    "More smaller layers reduces the overfitting to in-sample. Reducing the learning rate decreases the noise, and increases the overfitting to the in-sample. (It would make the validation loss go down if our model hadn't converged.)"
   ]
  },
  {
   "cell_type": "code",
   "execution_count": null,
   "metadata": {},
   "outputs": [],
   "source": [
    "#Run the model on the test images\n",
    "model_output = sess.run(network_output, feed_dict={\n",
    "    input_ph:mnist.test.images[0:10],\n",
    "})"
   ]
  },
  {
   "cell_type": "code",
   "execution_count": null,
   "metadata": {},
   "outputs": [],
   "source": [
    "model_output[0]"
   ]
  },
  {
   "cell_type": "code",
   "execution_count": null,
   "metadata": {},
   "outputs": [],
   "source": [
    "def softmax(x):\n",
    "    x = np.exp(x)\n",
    "    return x/x.sum()"
   ]
  },
  {
   "cell_type": "code",
   "execution_count": null,
   "metadata": {},
   "outputs": [],
   "source": [
    "f, (ax1, ax2) = plt.subplots(1, 2, sharey=True)\n",
    "ax1.matshow([softmax(x) for x in model_output])\n",
    "ax2.matshow(mnist.test.labels[0:10])"
   ]
  },
  {
   "cell_type": "code",
   "execution_count": null,
   "metadata": {},
   "outputs": [],
   "source": [
    "plt.matshow(mnist.test.images[8].reshape((28,28)))"
   ]
  }
 ],
 "metadata": {
  "kernelspec": {
   "display_name": "Python 3",
   "language": "python",
   "name": "python3"
  },
  "language_info": {
   "codemirror_mode": {
    "name": "ipython",
    "version": 3
   },
   "file_extension": ".py",
   "mimetype": "text/x-python",
   "name": "python",
   "nbconvert_exporter": "python",
   "pygments_lexer": "ipython3",
   "version": "3.6.4"
  }
 },
 "nbformat": 4,
 "nbformat_minor": 2
}
